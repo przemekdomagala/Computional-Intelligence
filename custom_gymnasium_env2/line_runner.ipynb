{
 "cells": [
  {
   "cell_type": "code",
   "execution_count": null,
   "id": "3010cbd2",
   "metadata": {},
   "outputs": [],
   "source": [
    "import gymnasium as gym\n",
    "import minerl\n",
    "import numpy as np\n",
    "from gymnasium import spaces\n",
    "\n",
    "\n",
    "class MinecraftDestroyStoneEnv(gym.Env):\n",
    "    def __init__(self):\n",
    "        super().__init__()\n",
    "        self.env = gym.make(\"MineRLTreechop-v0\")\n",
    "        self.action_space = self.env.action_space\n",
    "        self.observation_space = self.env.observation_space\n",
    "\n",
    "    def reset(self, seed=None, options=None):\n",
    "        obs, info = self.env.reset()\n",
    "        return obs, info\n",
    "\n",
    "    def step(self, action):\n",
    "        obs, reward, terminated, truncated, info = self.env.step(action)\n",
    "\n",
    "        # Zmieniamy reward: nagroda tylko za niszczenie kamienia (stone)\n",
    "        inv = obs.get(\"inventory\", {})\n",
    "        stone_count = inv.get(\"stone\", 0)\n",
    "\n",
    "        # Możesz porównać z poprzednim stanem, tu uproszczenie:\n",
    "        custom_reward = stone_count * 1.0  # 1 punkt za każdy kamień\n",
    "\n",
    "        return obs, custom_reward, terminated, truncated, info\n",
    "\n",
    "    def render(self):\n",
    "        # Możesz dodać np. print albo pygame render\n",
    "        pass\n",
    "\n",
    "    def close(self):\n",
    "        self.env.close()\n"
   ]
  }
 ],
 "metadata": {
  "kernelspec": {
   "display_name": ".venv",
   "language": "python",
   "name": "python3"
  },
  "language_info": {
   "codemirror_mode": {
    "name": "ipython",
    "version": 3
   },
   "file_extension": ".py",
   "mimetype": "text/x-python",
   "name": "python",
   "nbconvert_exporter": "python",
   "pygments_lexer": "ipython3",
   "version": "3.10.12"
  }
 },
 "nbformat": 4,
 "nbformat_minor": 5
}
